{
 "cells": [
  {
   "cell_type": "markdown",
   "metadata": {},
   "source": [
    "# HW1 - Поспелова Алина"
   ]
  },
  {
   "cell_type": "markdown",
   "metadata": {},
   "source": [
    "**Общая информация**\n",
    "\n",
    "**Срок сдачи:** 18 октября 2017, 06:00 <br\\>\n",
    "**Штраф за опоздание:** -2 балла после 06:00 18 октября, -4 балла после 06:00 25 октября, -6 баллов после 06:00 1 ноября\n",
    "\n",
    "При отправлении ДЗ указывайте фамилию в названии файла\n",
    "Присылать ДЗ необходимо в виде ссылки на свой github репозиторий в slack @alkhamush\n",
    "\n",
    "Необходимо в slack создать таск в приватный чат:\n",
    "/todo Фамилия Имя ссылка на гитхаб @alkhamush\n",
    "Пример:\n",
    "/todo Ксения Стройкова https://github.com/stroykova/spheremailru/stroykova_hw1.ipynb @alkhamush\n",
    "Дополнительно нужно просто скинуть ссылку в slack в личный чат\n",
    "\n",
    "Используйте данный Ipython Notebook при оформлении домашнего задания."
   ]
  },
  {
   "cell_type": "markdown",
   "metadata": {},
   "source": [
    "###### Задание 1 (2 баллов)\n",
    "Реализовать KNN в классе MyKNeighborsClassifier (обязательное условие: точность не ниже sklearn реализации)\n",
    "Разберитесь самостоятельно, какая мера расстояния используется в KNeighborsClassifier дефолтно и реализуйте свой алгоритм именно с этой мерой. Самостоятельно разберитесь, как считается score из KNeighborsClassifier и реализуйте аналог в своём классе. Score не должен уступать значению KNN из sklearn\n",
    "\n",
    "###### Задание 2 (2 балла)\n",
    "Добиться скорости работы на fit,  predict и predict_proba сравнимой со sklearn для iris и mnist\n",
    "Для этого используем numpy\n",
    "\n",
    "###### Задание 3 (2 балла)\n",
    "Для iris найдите такой параметр n_neighbors, при котором выдаётся наилучший score. Нарисуйте график зависимости score от n_neighbors\n",
    "\n",
    "###### Задание 4 (3 балла)\n",
    "Добавить algorithm='kd_tree' в реализацию KNN (использовать KDTree из sklearn.neighbors). Значение n_neighbors нужно взять из задания 3. Добиться скорости работы на fit,  predict и predict_proba сравнимой со sklearn для iris и mnist\n",
    "Для этого используем numpy. Score не должен уступать значению KNN из sklearn\n",
    "\n",
    "###### Задание 5 (1 балла)\n",
    "Описать для чего нужны следующие библиотеки/классы/функции (список будет ниже)\n",
    "\n",
    "**Штрафные баллы:**\n",
    "\n",
    "1. Невыполнение PEP8 -1 балл\n",
    "2. Отсутствие фамилии в имени скрипта (скрипт должен называться по аналогии со stroykova_hw1.ipynb) -1 балл\n",
    "3. Все строчки должны быть выполнены. Нужно, чтобы output команды можно было увидеть уже в git'е. В противном случае -1 балл\n",
    "4. При оформлении ДЗ нужно пользоваться данным файлом в качестве шаблона. Не нужно удалять и видоизменять структуру кода и текст. В противном случае -1 балл\n"
   ]
  },
  {
   "cell_type": "code",
   "execution_count": 338,
   "metadata": {},
   "outputs": [
    {
     "name": "stdout",
     "output_type": "stream",
     "text": [
      "The pycodestyle_magic extension is already loaded. To reload it, use:\n",
      "  %reload_ext pycodestyle_magic\n"
     ]
    }
   ],
   "source": [
    "import numpy as np\n",
    "import matplotlib.pyplot as plt\n",
    "\n",
    "import seaborn as sns\n",
    "from sklearn import datasets\n",
    "from sklearn.base import ClassifierMixin\n",
    "from sklearn.datasets import fetch_mldata\n",
    "from sklearn.neighbors.base import NeighborsBase, KNeighborsMixin, SupervisedIntegerMixin \n",
    "from sklearn.model_selection import train_test_split\n",
    "from sklearn.neighbors import KNeighborsClassifier, KDTree\n",
    "from sklearn.preprocessing import StandardScaler, MinMaxScaler\n",
    "from sklearn.metrics import pairwise_distances\n",
    "\n",
    "%load_ext pycodestyle_magic"
   ]
  },
  {
   "cell_type": "code",
   "execution_count": 339,
   "metadata": {},
   "outputs": [],
   "source": [
    "#%%pycodestyle\n",
    "\n",
    "\n",
    "class MyKNeighborsClassifier(NeighborsBase, KNeighborsMixin,\n",
    "                             SupervisedIntegerMixin, ClassifierMixin):\n",
    "\n",
    "    def __init__(self, n_neighbors, algorithm='brute'):\n",
    "        self.neighbors = n_neighbors\n",
    "        self.algorithm = algorithm\n",
    "\n",
    "    def fit(self, X, y):\n",
    "        self.train_data_x = X.astype(float)\n",
    "        self.train_data_y = y.astype(int)\n",
    "        self.classes_number = len(np.unique(y))\n",
    "        if self.algorithm == 'kd_tree':\n",
    "            self.train_tree = KDTree(X.astype(float))\n",
    "\n",
    "    def _get_knn(self, X):\n",
    "        if self.algorithm == 'brute':\n",
    "            knn = np.argpartition(pairwise_distances(X, self.train_data_x),\n",
    "                                  self.neighbors)[:, :self.neighbors]\n",
    "        elif self.algorithm == 'kd_tree':\n",
    "            knn = self.train_tree.query(X.astype(float), k=self.neighbors)[1]\n",
    "        return knn;\n",
    "        \n",
    "    def predict(self, X):\n",
    "        return np.apply_along_axis(lambda k: np.argmax(np.bincount(k)), 1,\n",
    "                                   self.train_data_y[self._get_knn(X)].astype(int))\n",
    "\n",
    "    def predict_proba(self, X):\n",
    "        predictions = self.train_data_y[self._get_knn(X)].astype(int)\n",
    "        return np.apply_along_axis(lambda k: np.bincount(k,\n",
    "                                            minlength=self.classes_number) / self.neighbors,\n",
    "                                   1, self.train_data_y[self._get_knn(X)].astype(int))\n",
    "\n",
    "    def score(self, X, y):\n",
    "        return (self.predict(X.astype(float)) == y.astype(int)).mean()"
   ]
  },
  {
   "cell_type": "markdown",
   "metadata": {},
   "source": [
    "**IRIS**"
   ]
  },
  {
   "cell_type": "code",
   "execution_count": 340,
   "metadata": {},
   "outputs": [],
   "source": [
    "iris = datasets.load_iris()"
   ]
  },
  {
   "cell_type": "code",
   "execution_count": 341,
   "metadata": {},
   "outputs": [],
   "source": [
    "X_train, X_test, y_train, y_test = train_test_split(iris.data, iris.target, test_size=0.1, stratify=iris.target)"
   ]
  },
  {
   "cell_type": "code",
   "execution_count": 342,
   "metadata": {},
   "outputs": [],
   "source": [
    "clf = KNeighborsClassifier(n_neighbors=2)\n",
    "my_clf = MyKNeighborsClassifier(n_neighbors=2)"
   ]
  },
  {
   "cell_type": "code",
   "execution_count": 343,
   "metadata": {},
   "outputs": [
    {
     "name": "stdout",
     "output_type": "stream",
     "text": [
      "Wall time: 997 µs\n"
     ]
    },
    {
     "data": {
      "text/plain": [
       "KNeighborsClassifier(algorithm='auto', leaf_size=30, metric='minkowski',\n",
       "           metric_params=None, n_jobs=1, n_neighbors=2, p=2,\n",
       "           weights='uniform')"
      ]
     },
     "execution_count": 343,
     "metadata": {},
     "output_type": "execute_result"
    }
   ],
   "source": [
    "%time clf.fit(X_train, y_train)"
   ]
  },
  {
   "cell_type": "code",
   "execution_count": 344,
   "metadata": {},
   "outputs": [
    {
     "name": "stdout",
     "output_type": "stream",
     "text": [
      "Wall time: 1 ms\n"
     ]
    }
   ],
   "source": [
    "%time my_clf.fit(X_train, y_train)"
   ]
  },
  {
   "cell_type": "code",
   "execution_count": 345,
   "metadata": {},
   "outputs": [
    {
     "name": "stdout",
     "output_type": "stream",
     "text": [
      "Wall time: 2 ms\n"
     ]
    },
    {
     "data": {
      "text/plain": [
       "array([0, 2, 0, 1, 2, 2, 1, 0, 0, 2, 1, 1, 1, 0, 2])"
      ]
     },
     "execution_count": 345,
     "metadata": {},
     "output_type": "execute_result"
    }
   ],
   "source": [
    "%time clf.predict(X_test)"
   ]
  },
  {
   "cell_type": "code",
   "execution_count": 296,
   "metadata": {},
   "outputs": [
    {
     "name": "stdout",
     "output_type": "stream",
     "text": [
      "Wall time: 2 ms\n"
     ]
    },
    {
     "data": {
      "text/plain": [
       "array([1, 1, 2, 0, 2, 1, 1, 2, 1, 0, 0, 0, 2, 2, 0], dtype=int64)"
      ]
     },
     "execution_count": 296,
     "metadata": {},
     "output_type": "execute_result"
    }
   ],
   "source": [
    "%time my_clf.predict(X_test)"
   ]
  },
  {
   "cell_type": "code",
   "execution_count": 297,
   "metadata": {},
   "outputs": [
    {
     "name": "stdout",
     "output_type": "stream",
     "text": [
      "Wall time: 1 ms\n"
     ]
    },
    {
     "data": {
      "text/plain": [
       "array([[0., 1., 0.],\n",
       "       [0., 1., 0.],\n",
       "       [0., 0., 1.],\n",
       "       [1., 0., 0.],\n",
       "       [0., 0., 1.],\n",
       "       [0., 1., 0.],\n",
       "       [0., 1., 0.],\n",
       "       [0., 0., 1.],\n",
       "       [0., 1., 0.],\n",
       "       [1., 0., 0.],\n",
       "       [1., 0., 0.],\n",
       "       [1., 0., 0.],\n",
       "       [0., 0., 1.],\n",
       "       [0., 0., 1.],\n",
       "       [1., 0., 0.]])"
      ]
     },
     "execution_count": 297,
     "metadata": {},
     "output_type": "execute_result"
    }
   ],
   "source": [
    "%time clf.predict_proba(X_test)"
   ]
  },
  {
   "cell_type": "code",
   "execution_count": 298,
   "metadata": {},
   "outputs": [
    {
     "name": "stdout",
     "output_type": "stream",
     "text": [
      "Wall time: 4 ms\n"
     ]
    },
    {
     "data": {
      "text/plain": [
       "array([[0., 1., 0.],\n",
       "       [0., 1., 0.],\n",
       "       [0., 0., 1.],\n",
       "       [1., 0., 0.],\n",
       "       [0., 0., 1.],\n",
       "       [0., 1., 0.],\n",
       "       [0., 1., 0.],\n",
       "       [0., 0., 1.],\n",
       "       [0., 1., 0.],\n",
       "       [1., 0., 0.],\n",
       "       [1., 0., 0.],\n",
       "       [1., 0., 0.],\n",
       "       [0., 0., 1.],\n",
       "       [0., 0., 1.],\n",
       "       [1., 0., 0.]])"
      ]
     },
     "execution_count": 298,
     "metadata": {},
     "output_type": "execute_result"
    }
   ],
   "source": [
    "%time my_clf.predict_proba(X_test)"
   ]
  },
  {
   "cell_type": "code",
   "execution_count": 299,
   "metadata": {},
   "outputs": [
    {
     "data": {
      "text/plain": [
       "1.0"
      ]
     },
     "execution_count": 299,
     "metadata": {},
     "output_type": "execute_result"
    }
   ],
   "source": [
    "clf.score(X_test, y_test)"
   ]
  },
  {
   "cell_type": "code",
   "execution_count": 300,
   "metadata": {},
   "outputs": [
    {
     "data": {
      "text/plain": [
       "1.0"
      ]
     },
     "execution_count": 300,
     "metadata": {},
     "output_type": "execute_result"
    }
   ],
   "source": [
    "my_clf.score(X_test, y_test)"
   ]
  },
  {
   "cell_type": "markdown",
   "metadata": {},
   "source": [
    "# Задание 3"
   ]
  },
  {
   "cell_type": "code",
   "execution_count": 319,
   "metadata": {},
   "outputs": [
    {
     "name": "stdout",
     "output_type": "stream",
     "text": [
      "Best score: 1.0; n_neighbors: 1\n"
     ]
    },
    {
     "data": {
      "image/png": "[encoded data removed]",
      "text/plain": [
       "<Figure size 432x288 with 1 Axes>"
      ]
     },
     "metadata": {},
     "output_type": "display_data"
    }
   ],
   "source": [
    "max_number = 100\n",
    "score_result = []\n",
    "best_score = 0\n",
    "neighborg = 0\n",
    "for k in range(1, max_number):\n",
    "    X_train, X_test, y_train, y_test = train_test_split(\n",
    "        iris.data, iris.target, test_size = 0.1,\n",
    "        stratify = iris.target)\n",
    "    my_clf = MyKNeighborsClassifier(n_neighbors=k)\n",
    "    my_clf.fit(X_train, y_train)\n",
    "    score_result.append(my_clf.score(X_test, y_test))\n",
    "    if score_result[-1] > best_score:\n",
    "        neighborg = k\n",
    "        best_score = score_result[-1]\n",
    "print(\"Best score: {}; n_neighbors: {}\".format(best_score, neighborg))\n",
    "plt.plot(range(1, max_number), score_result)\n",
    "plt.show()"
   ]
  },
  {
   "cell_type": "markdown",
   "metadata": {},
   "source": [
    "**MNIST**"
   ]
  },
  {
   "cell_type": "code",
   "execution_count": 320,
   "metadata": {},
   "outputs": [],
   "source": [
    "mnist = fetch_mldata('MNIST original')"
   ]
  },
  {
   "cell_type": "code",
   "execution_count": 321,
   "metadata": {},
   "outputs": [],
   "source": [
    "X_train, X_test, y_train, y_test = train_test_split(mnist.data, mnist.target, test_size=0.01, stratify=mnist.target)"
   ]
  },
  {
   "cell_type": "code",
   "execution_count": 322,
   "metadata": {},
   "outputs": [],
   "source": [
    "clf = KNeighborsClassifier(n_neighbors=2)\n",
    "my_clf = MyKNeighborsClassifier(n_neighbors=2)"
   ]
  },
  {
   "cell_type": "code",
   "execution_count": 323,
   "metadata": {},
   "outputs": [
    {
     "name": "stdout",
     "output_type": "stream",
     "text": [
      "Wall time: 1min 38s\n"
     ]
    },
    {
     "data": {
      "text/plain": [
       "KNeighborsClassifier(algorithm='auto', leaf_size=30, metric='minkowski',\n",
       "           metric_params=None, n_jobs=1, n_neighbors=2, p=2,\n",
       "           weights='uniform')"
      ]
     },
     "execution_count": 323,
     "metadata": {},
     "output_type": "execute_result"
    }
   ],
   "source": [
    "%time clf.fit(X_train, y_train)"
   ]
  },
  {
   "cell_type": "code",
   "execution_count": 324,
   "metadata": {},
   "outputs": [
    {
     "name": "stdout",
     "output_type": "stream",
     "text": [
      "Wall time: 710 ms\n"
     ]
    }
   ],
   "source": [
    "%time my_clf.fit(X_train, y_train)"
   ]
  },
  {
   "cell_type": "code",
   "execution_count": 325,
   "metadata": {},
   "outputs": [
    {
     "name": "stdout",
     "output_type": "stream",
     "text": [
      "Wall time: 1min 59s\n"
     ]
    },
    {
     "data": {
      "text/plain": [
       "array([8., 0., 3., 0., 6., 6., 2., 6., 8., 5., 4., 1., 4., 9., 5., 8., 1.,\n",
       "       1., 2., 1., 0., 3., 3., 5., 4., 4., 0., 5., 7., 5., 0., 9., 6., 4.,\n",
       "       2., 3., 0., 1., 4., 5., 6., 3., 7., 3., 1., 0., 9., 6., 9., 3., 8.,\n",
       "       8., 3., 4., 1., 6., 5., 5., 0., 4., 9., 3., 9., 8., 0., 6., 7., 5.,\n",
       "       8., 3., 9., 7., 4., 6., 2., 1., 0., 7., 3., 0., 1., 3., 8., 1., 2.,\n",
       "       7., 0., 4., 4., 7., 6., 0., 4., 8., 9., 9., 2., 4., 5., 5., 4., 7.,\n",
       "       6., 9., 1., 7., 0., 8., 5., 1., 9., 1., 7., 6., 8., 4., 9., 1., 2.,\n",
       "       2., 8., 2., 1., 8., 7., 8., 0., 6., 1., 3., 9., 2., 2., 3., 4., 5.,\n",
       "       2., 3., 1., 9., 9., 3., 5., 9., 7., 8., 0., 2., 8., 4., 4., 1., 8.,\n",
       "       9., 0., 7., 9., 7., 4., 6., 2., 2., 0., 9., 2., 2., 0., 7., 6., 2.,\n",
       "       1., 9., 1., 1., 5., 4., 5., 7., 6., 9., 6., 9., 8., 8., 1., 9., 0.,\n",
       "       1., 7., 8., 7., 9., 4., 0., 5., 6., 4., 4., 0., 2., 5., 4., 3., 1.,\n",
       "       5., 3., 5., 9., 3., 0., 6., 5., 6., 4., 7., 5., 9., 2., 6., 3., 8.,\n",
       "       1., 7., 0., 5., 5., 5., 3., 7., 8., 5., 6., 5., 8., 7., 2., 3., 8.,\n",
       "       5., 6., 0., 7., 6., 3., 0., 0., 3., 1., 8., 5., 1., 0., 4., 2., 1.,\n",
       "       5., 7., 0., 1., 6., 4., 5., 3., 0., 1., 2., 3., 1., 4., 3., 1., 3.,\n",
       "       0., 5., 3., 8., 3., 1., 7., 5., 8., 8., 7., 1., 8., 6., 7., 9., 2.,\n",
       "       6., 4., 1., 5., 8., 7., 4., 0., 9., 1., 2., 0., 6., 1., 2., 4., 1.,\n",
       "       7., 3., 6., 9., 6., 0., 0., 4., 1., 6., 5., 4., 1., 5., 0., 8., 4.,\n",
       "       9., 2., 5., 9., 8., 9., 6., 0., 0., 2., 3., 6., 4., 8., 6., 8., 5.,\n",
       "       7., 7., 0., 5., 5., 9., 5., 7., 7., 1., 1., 1., 3., 7., 9., 8., 4.,\n",
       "       4., 5., 5., 7., 5., 1., 6., 9., 9., 4., 4., 9., 7., 9., 4., 3., 4.,\n",
       "       2., 3., 1., 7., 9., 0., 0., 0., 3., 2., 8., 7., 6., 6., 1., 2., 9.,\n",
       "       7., 3., 7., 3., 7., 2., 6., 4., 6., 2., 6., 3., 2., 4., 5., 7., 2.,\n",
       "       7., 1., 6., 9., 1., 9., 5., 2., 6., 7., 4., 0., 4., 2., 4., 3., 9.,\n",
       "       7., 6., 8., 7., 9., 7., 4., 9., 4., 2., 8., 2., 2., 8., 0., 7., 0.,\n",
       "       4., 3., 6., 0., 9., 5., 4., 3., 8., 4., 2., 8., 3., 1., 1., 2., 4.,\n",
       "       3., 4., 0., 1., 0., 6., 8., 5., 7., 0., 3., 7., 6., 6., 3., 7., 3.,\n",
       "       5., 2., 1., 8., 4., 3., 2., 7., 9., 9., 1., 0., 2., 0., 7., 1., 8.,\n",
       "       9., 2., 2., 4., 1., 1., 7., 5., 8., 8., 1., 2., 1., 5., 7., 4., 0.,\n",
       "       5., 7., 1., 8., 9., 0., 9., 6., 2., 9., 7., 3., 3., 9., 1., 8., 0.,\n",
       "       4., 0., 0., 7., 6., 7., 3., 1., 4., 0., 7., 7., 4., 9., 4., 1., 8.,\n",
       "       1., 0., 9., 2., 6., 3., 5., 1., 1., 5., 3., 2., 0., 8., 3., 2., 8.,\n",
       "       3., 3., 3., 8., 6., 5., 6., 1., 1., 9., 3., 1., 6., 5., 2., 2., 2.,\n",
       "       0., 7., 9., 1., 3., 2., 6., 5., 8., 1., 4., 2., 8., 3., 0., 1., 3.,\n",
       "       9., 4., 6., 1., 0., 1., 9., 2., 8., 5., 8., 6., 3., 2., 1., 3., 7.,\n",
       "       8., 8., 0., 3., 2., 5., 7., 0., 1., 2., 7., 3., 5., 3., 6., 7., 0.,\n",
       "       9., 2., 0., 9., 8., 6., 8., 0., 6., 9., 5., 1., 2., 4., 1., 3., 6.,\n",
       "       6., 1., 3., 6., 7., 8., 5., 9., 7., 6., 4., 9., 4., 4., 6., 1., 9.,\n",
       "       4., 3., 2., 3., 6., 1., 9., 2., 0., 3., 8., 6., 7., 2., 2., 6., 9.,\n",
       "       1., 7., 0., 4., 5., 4., 7., 7., 0., 8., 7., 4., 5., 9., 3., 8., 8.,\n",
       "       0., 5., 0.])"
      ]
     },
     "execution_count": 325,
     "metadata": {},
     "output_type": "execute_result"
    }
   ],
   "source": [
    "%time clf.predict(X_test)"
   ]
  },
  {
   "cell_type": "code",
   "execution_count": 326,
   "metadata": {},
   "outputs": [
    {
     "name": "stdout",
     "output_type": "stream",
     "text": [
      "Wall time: 7.55 s\n"
     ]
    },
    {
     "data": {
      "text/plain": [
       "array([8, 0, 3, 0, 6, 6, 2, 6, 8, 5, 4, 1, 4, 9, 5, 8, 1, 1, 2, 1, 0, 3,\n",
       "       3, 5, 4, 4, 0, 5, 7, 5, 0, 9, 6, 4, 2, 3, 0, 1, 4, 5, 6, 3, 7, 3,\n",
       "       1, 0, 9, 6, 9, 3, 8, 8, 3, 4, 1, 6, 5, 5, 0, 4, 9, 3, 9, 8, 0, 6,\n",
       "       7, 5, 8, 3, 9, 7, 4, 6, 2, 1, 0, 7, 3, 0, 1, 3, 8, 1, 2, 7, 0, 4,\n",
       "       4, 7, 6, 0, 4, 8, 9, 9, 2, 4, 5, 5, 4, 7, 6, 9, 1, 7, 0, 8, 5, 1,\n",
       "       9, 1, 7, 6, 8, 4, 9, 1, 2, 2, 8, 2, 1, 8, 7, 8, 0, 6, 1, 3, 9, 2,\n",
       "       2, 3, 4, 5, 2, 3, 1, 9, 9, 3, 5, 9, 7, 8, 0, 2, 8, 4, 4, 1, 8, 9,\n",
       "       0, 7, 9, 7, 4, 6, 2, 2, 0, 9, 2, 2, 0, 7, 6, 2, 1, 9, 1, 1, 5, 4,\n",
       "       5, 7, 6, 9, 6, 9, 8, 8, 1, 9, 0, 1, 7, 8, 7, 9, 4, 0, 5, 6, 4, 4,\n",
       "       0, 2, 5, 4, 3, 1, 5, 3, 5, 9, 3, 0, 6, 5, 6, 4, 7, 5, 9, 2, 6, 3,\n",
       "       8, 1, 7, 0, 5, 5, 5, 3, 7, 8, 5, 6, 5, 8, 7, 2, 3, 8, 5, 6, 0, 7,\n",
       "       6, 3, 0, 0, 3, 1, 8, 5, 1, 0, 4, 2, 1, 5, 7, 0, 1, 6, 4, 5, 3, 0,\n",
       "       1, 2, 3, 1, 4, 3, 1, 3, 0, 5, 3, 8, 3, 1, 7, 5, 8, 8, 7, 1, 8, 6,\n",
       "       7, 9, 2, 6, 4, 1, 5, 8, 7, 4, 0, 9, 1, 2, 0, 6, 1, 2, 4, 1, 7, 3,\n",
       "       6, 9, 6, 0, 0, 4, 1, 6, 5, 4, 1, 5, 0, 8, 4, 9, 2, 5, 9, 8, 9, 6,\n",
       "       0, 0, 2, 3, 6, 4, 8, 6, 8, 5, 7, 7, 0, 5, 5, 9, 5, 7, 7, 1, 1, 1,\n",
       "       3, 7, 9, 8, 4, 4, 5, 5, 7, 5, 1, 6, 9, 9, 4, 4, 9, 7, 9, 4, 3, 4,\n",
       "       2, 3, 1, 7, 9, 0, 0, 0, 3, 2, 8, 7, 6, 6, 1, 2, 9, 7, 3, 7, 3, 7,\n",
       "       2, 6, 4, 6, 2, 6, 3, 2, 4, 5, 7, 2, 7, 1, 6, 9, 1, 9, 5, 2, 6, 7,\n",
       "       4, 0, 4, 2, 4, 3, 9, 7, 6, 8, 7, 9, 7, 4, 9, 4, 2, 8, 2, 2, 8, 0,\n",
       "       7, 0, 4, 3, 6, 0, 9, 5, 4, 3, 8, 4, 2, 8, 3, 1, 1, 2, 4, 3, 4, 0,\n",
       "       1, 0, 6, 8, 5, 7, 0, 3, 7, 6, 6, 3, 7, 3, 5, 2, 1, 8, 4, 3, 2, 7,\n",
       "       9, 9, 1, 0, 2, 0, 7, 1, 8, 9, 2, 2, 4, 1, 1, 7, 5, 8, 8, 1, 2, 1,\n",
       "       5, 7, 4, 0, 5, 7, 1, 8, 9, 0, 9, 6, 2, 9, 7, 3, 3, 9, 1, 8, 0, 4,\n",
       "       0, 0, 7, 6, 7, 3, 1, 4, 0, 7, 7, 4, 9, 4, 1, 8, 1, 0, 9, 2, 6, 3,\n",
       "       5, 1, 1, 5, 3, 2, 0, 8, 3, 2, 8, 3, 3, 3, 8, 6, 5, 6, 1, 1, 9, 3,\n",
       "       1, 6, 5, 2, 2, 2, 0, 7, 9, 1, 3, 2, 6, 5, 8, 1, 4, 2, 8, 3, 0, 1,\n",
       "       3, 9, 4, 6, 1, 0, 1, 9, 2, 8, 5, 8, 6, 3, 2, 1, 3, 7, 8, 8, 0, 3,\n",
       "       2, 5, 7, 0, 1, 2, 7, 3, 5, 3, 6, 7, 0, 9, 2, 0, 9, 8, 6, 8, 0, 6,\n",
       "       9, 5, 1, 2, 4, 1, 3, 6, 6, 1, 3, 6, 7, 8, 5, 9, 7, 6, 4, 9, 4, 4,\n",
       "       6, 1, 9, 4, 3, 2, 3, 6, 1, 9, 2, 0, 3, 8, 6, 7, 2, 2, 6, 9, 1, 7,\n",
       "       0, 4, 5, 4, 7, 7, 0, 8, 7, 4, 5, 9, 3, 8, 8, 0, 5, 0], dtype=int64)"
      ]
     },
     "execution_count": 326,
     "metadata": {},
     "output_type": "execute_result"
    }
   ],
   "source": [
    "%time my_clf.predict(X_test)"
   ]
  },
  {
   "cell_type": "code",
   "execution_count": 327,
   "metadata": {},
   "outputs": [
    {
     "name": "stdout",
     "output_type": "stream",
     "text": [
      "Wall time: 2min 5s\n"
     ]
    },
    {
     "data": {
      "text/plain": [
       "array([[0., 0., 0., ..., 0., 1., 0.],\n",
       "       [1., 0., 0., ..., 0., 0., 0.],\n",
       "       [0., 0., 0., ..., 0., 0., 0.],\n",
       "       ...,\n",
       "       [1., 0., 0., ..., 0., 0., 0.],\n",
       "       [0., 0., 0., ..., 0., 0., 0.],\n",
       "       [1., 0., 0., ..., 0., 0., 0.]])"
      ]
     },
     "execution_count": 327,
     "metadata": {},
     "output_type": "execute_result"
    }
   ],
   "source": [
    "%time clf.predict_proba(X_test)"
   ]
  },
  {
   "cell_type": "code",
   "execution_count": 328,
   "metadata": {},
   "outputs": [
    {
     "name": "stdout",
     "output_type": "stream",
     "text": [
      "Wall time: 13.7 s\n"
     ]
    },
    {
     "data": {
      "text/plain": [
       "array([[0., 0., 0., ..., 0., 1., 0.],\n",
       "       [1., 0., 0., ..., 0., 0., 0.],\n",
       "       [0., 0., 0., ..., 0., 0., 0.],\n",
       "       ...,\n",
       "       [1., 0., 0., ..., 0., 0., 0.],\n",
       "       [0., 0., 0., ..., 0., 0., 0.],\n",
       "       [1., 0., 0., ..., 0., 0., 0.]])"
      ]
     },
     "execution_count": 328,
     "metadata": {},
     "output_type": "execute_result"
    }
   ],
   "source": [
    "%time my_clf.predict_proba(X_test)"
   ]
  },
  {
   "cell_type": "code",
   "execution_count": 329,
   "metadata": {},
   "outputs": [
    {
     "data": {
      "text/plain": [
       "0.9742857142857143"
      ]
     },
     "execution_count": 329,
     "metadata": {},
     "output_type": "execute_result"
    }
   ],
   "source": [
    "clf.score(X_test, y_test)"
   ]
  },
  {
   "cell_type": "code",
   "execution_count": 330,
   "metadata": {},
   "outputs": [
    {
     "data": {
      "text/plain": [
       "0.9742857142857143"
      ]
     },
     "execution_count": 330,
     "metadata": {},
     "output_type": "execute_result"
    }
   ],
   "source": [
    "my_clf.score(X_test, y_test)"
   ]
  },
  {
   "cell_type": "markdown",
   "metadata": {},
   "source": [
    "Задание 4"
   ]
  },
  {
   "cell_type": "code",
   "execution_count": 331,
   "metadata": {},
   "outputs": [],
   "source": [
    "clf = KNeighborsClassifier(n_neighbors=2, algorithm='kd_tree')\n",
    "my_clf = MyKNeighborsClassifier(n_neighbors=2, algorithm='kd_tree')"
   ]
  },
  {
   "cell_type": "code",
   "execution_count": 332,
   "metadata": {},
   "outputs": [],
   "source": [
    "X_train, X_test, y_train, y_test = train_test_split(mnist.data, mnist.target, test_size=0.01, stratify=mnist.target)"
   ]
  },
  {
   "cell_type": "code",
   "execution_count": 333,
   "metadata": {},
   "outputs": [
    {
     "name": "stdout",
     "output_type": "stream",
     "text": [
      "Wall time: 1min 30s\n"
     ]
    },
    {
     "data": {
      "text/plain": [
       "KNeighborsClassifier(algorithm='kd_tree', leaf_size=30, metric='minkowski',\n",
       "           metric_params=None, n_jobs=1, n_neighbors=2, p=2,\n",
       "           weights='uniform')"
      ]
     },
     "execution_count": 333,
     "metadata": {},
     "output_type": "execute_result"
    }
   ],
   "source": [
    "%time clf.fit(X_train, y_train)"
   ]
  },
  {
   "cell_type": "code",
   "execution_count": 346,
   "metadata": {},
   "outputs": [
    {
     "name": "stdout",
     "output_type": "stream",
     "text": [
      "Wall time: 0 ns\n"
     ]
    }
   ],
   "source": [
    "%time my_clf.fit(X_train, y_train)"
   ]
  },
  {
   "cell_type": "code",
   "execution_count": 347,
   "metadata": {},
   "outputs": [
    {
     "name": "stdout",
     "output_type": "stream",
     "text": [
      "Wall time: 2 ms\n"
     ]
    },
    {
     "data": {
      "text/plain": [
       "array([0, 2, 0, 1, 2, 2, 1, 0, 0, 2, 1, 1, 1, 0, 2])"
      ]
     },
     "execution_count": 347,
     "metadata": {},
     "output_type": "execute_result"
    }
   ],
   "source": [
    "%time clf.predict(X_test)"
   ]
  },
  {
   "cell_type": "code",
   "execution_count": 348,
   "metadata": {},
   "outputs": [
    {
     "name": "stdout",
     "output_type": "stream",
     "text": [
      "Wall time: 40 ms\n"
     ]
    },
    {
     "data": {
      "text/plain": [
       "array([0, 2, 0, 1, 2, 2, 1, 0, 0, 2, 1, 1, 1, 0, 2], dtype=int64)"
      ]
     },
     "execution_count": 348,
     "metadata": {},
     "output_type": "execute_result"
    }
   ],
   "source": [
    "%time my_clf.predict(X_test)"
   ]
  },
  {
   "cell_type": "code",
   "execution_count": 349,
   "metadata": {},
   "outputs": [
    {
     "name": "stdout",
     "output_type": "stream",
     "text": [
      "Wall time: 2 ms\n"
     ]
    },
    {
     "data": {
      "text/plain": [
       "array([[1. , 0. , 0. ],\n",
       "       [0. , 0. , 1. ],\n",
       "       [1. , 0. , 0. ],\n",
       "       [0. , 1. , 0. ],\n",
       "       [0. , 0. , 1. ],\n",
       "       [0. , 0. , 1. ],\n",
       "       [0. , 1. , 0. ],\n",
       "       [1. , 0. , 0. ],\n",
       "       [1. , 0. , 0. ],\n",
       "       [0. , 0. , 1. ],\n",
       "       [0. , 1. , 0. ],\n",
       "       [0. , 1. , 0. ],\n",
       "       [0. , 0.5, 0.5],\n",
       "       [1. , 0. , 0. ],\n",
       "       [0. , 0. , 1. ]])"
      ]
     },
     "execution_count": 349,
     "metadata": {},
     "output_type": "execute_result"
    }
   ],
   "source": [
    "%time clf.predict_proba(X_test)"
   ]
  },
  {
   "cell_type": "code",
   "execution_count": 350,
   "metadata": {},
   "outputs": [
    {
     "name": "stdout",
     "output_type": "stream",
     "text": [
      "Wall time: 3 ms\n"
     ]
    },
    {
     "data": {
      "text/plain": [
       "array([[1. , 0. , 0. ],\n",
       "       [0. , 0. , 1. ],\n",
       "       [1. , 0. , 0. ],\n",
       "       [0. , 1. , 0. ],\n",
       "       [0. , 0. , 1. ],\n",
       "       [0. , 0. , 1. ],\n",
       "       [0. , 1. , 0. ],\n",
       "       [1. , 0. , 0. ],\n",
       "       [1. , 0. , 0. ],\n",
       "       [0. , 0. , 1. ],\n",
       "       [0. , 1. , 0. ],\n",
       "       [0. , 1. , 0. ],\n",
       "       [0. , 0.5, 0.5],\n",
       "       [1. , 0. , 0. ],\n",
       "       [0. , 0. , 1. ]])"
      ]
     },
     "execution_count": 350,
     "metadata": {},
     "output_type": "execute_result"
    }
   ],
   "source": [
    "%time my_clf.predict_proba(X_test)"
   ]
  },
  {
   "cell_type": "code",
   "execution_count": 351,
   "metadata": {},
   "outputs": [
    {
     "data": {
      "text/plain": [
       "1.0"
      ]
     },
     "execution_count": 351,
     "metadata": {},
     "output_type": "execute_result"
    }
   ],
   "source": [
    "clf.score(X_test, y_test)"
   ]
  },
  {
   "cell_type": "code",
   "execution_count": 352,
   "metadata": {},
   "outputs": [
    {
     "data": {
      "text/plain": [
       "1.0"
      ]
     },
     "execution_count": 352,
     "metadata": {},
     "output_type": "execute_result"
    }
   ],
   "source": [
    "my_clf.score(X_test, y_test)"
   ]
  },
  {
   "cell_type": "markdown",
   "metadata": {},
   "source": [
    "Задание 5"
   ]
  },
  {
   "cell_type": "code",
   "execution_count": 353,
   "metadata": {},
   "outputs": [],
   "source": [
    "# seaborn - это высокоуровневое API на базе библиотеки matplotlib,\n",
    "#           содержащее настройки для оформления графиков,\n",
    "#           а также сложные типы визуализации, которые в matplotlib\n",
    "#           потребовали бы большого количество кода.\n",
    "# matplotlib - библиотека для визуализации данных двумерной и\n",
    "#              трёхмерной графики, поддерживающий многие виды графиков\n",
    "#              и диаграмм, анимированные изображения\n",
    "# train_test_split - функция из sklearn, разбивающая массивы или матрицы\n",
    "#                    на тренировочную и тестовую выборки.\n",
    "# Pipelin%load_ext e (from sklearn.pipeline import Pipeline) - цепочка\n",
    "#                         преобразований с окончательной оценкой,\n",
    "#                         на вход одной функции подаётся\n",
    "#                         выход другой функции.\n",
    "# StandardScaler (from sklearn.preprocessing import StandardScaler) - это\n",
    "#                        класс, нормирующий данные, приводящий дисперсию\n",
    "#                        к единице,а матожидание к 0\n",
    "# ClassifierMixin - базовый класс для всех классификаторов в sklearn.\n",
    "# NeighborsBase - базовый класс для всех предсказаний neighbors (KNN)\n",
    "# KNeighborsMixin - базовый класс, для всех классов KNN, содержащих методы\n",
    "#                   поиска ближайших соседей.\n",
    "# SupervisedIntegerMixin - базовый класс для всех реализаций классификатора,\n",
    "#                          содержащих метод fit"
   ]
  }
 ],
 "metadata": {
  "kernelspec": {
   "display_name": "Python 3",
   "language": "python",
   "name": "python3"
  },
  "language_info": {
   "codemirror_mode": {
    "name": "ipython",
    "version": 3
   },
   "file_extension": ".py",
   "mimetype": "text/x-python",
   "name": "python",
   "nbconvert_exporter": "python",
   "pygments_lexer": "ipython3",
   "version": "3.6.5"
  }
 },
 "nbformat": 4,
 "nbformat_minor": 2
}
