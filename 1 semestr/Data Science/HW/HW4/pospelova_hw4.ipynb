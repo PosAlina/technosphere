{
 "cells": [
  {
   "cell_type": "markdown",
   "metadata": {},
   "source": [
    "# Алгоритмы интеллектуальной обработки больших объемов данных\n",
    "## Домашнее задание №4 - Метод k-средних, предобработка признаков\n"
   ]
  },
  {
   "cell_type": "markdown",
   "metadata": {},
   "source": [
    "###### <hr\\>\n",
    "**Общая информация**\n",
    "\n",
    "**Срок сдачи:** 28 ноября 2018, 06:00 <br\\>\n",
    "**Штраф за опоздание:** -2 балла после 06:00 28 ноября, -4 балла после 06:00 5 декабря, -6 баллов после 06:00 12 декабря, -8 баллов после 19 декабря\n",
    "\n",
    "При отправлении ДЗ указывайте фамилию в названии файла\n",
    "Присылать ДЗ необходимо в виде ссылки на свой github репозиторий в slack @alkhamush\n",
    "\n",
    "Необходимо в slack создать таск в приватный чат:\n",
    "/todo Фамилия Имя ссылка на гитхаб @alkhamush\n",
    "Пример:\n",
    "/todo Ксения Стройкова https://github.com/stroykova/spheremailru/stroykova_hw1.ipynb @alkhamush\n",
    "Дополнительно нужно просто скинуть ссылку в slack в личный чат\n",
    "\n",
    "Используйте данный Ipython Notebook при оформлении домашнего задания."
   ]
  },
  {
   "cell_type": "markdown",
   "metadata": {},
   "source": [
    "# Имплементация K-means\n",
    "\n",
    "Пользуясь наработками выше, имплементируйте метод k-means.  \n",
    "При инициализации необходимо задавать количество кластеров, функцию расстояния между кластерами (для оригинального k-means - евклидово расстояние) и начальное состояние генератора случайных чисел.\n",
    "\n",
    "После обучения, среди атрибутов класса `Kmeans` должны появится\n",
    "* Метки кластеров для объектов\n",
    "* Координаты центройдов кластеров\n",
    "\n",
    "k-means - это алгоритм **кластеризации**, а не классификации, а посему метод `.predict()` в нем фактически не нужен, но он может возвращать метки ближайшего кластера для объектов."
   ]
  },
  {
   "cell_type": "markdown",
   "metadata": {},
   "source": [
    "###### Задание 1 (2 баллов)\n",
    "Имплементируйте метод k-means. Задание считается выполненным, если Ваша реализация работает быстрее реализации из sklearn.\n",
    "\n",
    "Теория для выполнения задания 2 и 3 остаётся на самостоятельное изучение. Теории немного и она совсем простая.\n",
    "\n",
    "###### Задание 2 (2 балла)\n",
    "Имплементируйте класс MiniBatchKMeans, который является классом наследником Kmeans.\n",
    "\n",
    "###### Задание 3 (2 балла)\n",
    "Превратите k-means в k-means++. Для этого нужно реализовать метод в классе Kmeans, который будет инициализировать более \"хорошие\" значения центроидов. Чтобы использовался метод k-means++, в параметр init необходимо передать строковое значение 'k-means' (по умолчанию 'random').\n",
    "\n",
    "###### Задание 4 (2 балла)\n",
    "В пункте \"Проверка корректности метода\" нужно нарисовать графики, которые показывают зависимость времени выполнения алгоритма от количества сэмплов. Графики должны быть  нарисованы для различных комбинаций реализаций алгоритма (k-means, k-means++, k-means с MiniBatchKMeans, k-means++ с MiniBatchKMeans). График достаточно построить на 5-10 точках.\n",
    "\n",
    "###### Задание 5 (2 балла)\n",
    "В пункте \"Применение K-means на реальных данных\" нужно сравнить различные реализации k-means (k-means, k-means++, k-means с MiniBatchKMeans, k-means++ с MiniBatchKMeans). После чего написать вывод, в котором должно быть объяснение того, почему один алгоритм оказался лучше остальных или почему не было выявлено лучшего алгоритма.\n",
    "\n",
    "**Штрафные баллы:**\n",
    "\n",
    "1. Невыполнение PEP8 -1 балл\n",
    "2. Отсутствие фамилии в имени скрипта (скрипт должен называться по аналогии со stroykova_hw4.ipynb) -1 балл\n",
    "3. Все строчки должны быть выполнены. Нужно, чтобы output команды можно было увидеть уже в git'е. В противном случае -1 балл\n",
    "4. При оформлении ДЗ нужно пользоваться данным файлом в качестве шаблона. Не нужно удалять и видоизменять написанный код и текст. В противном случае -1 балл\n",
    "<hr\\>"
   ]
  },
  {
   "cell_type": "code",
   "execution_count": 1,
   "metadata": {},
   "outputs": [],
   "source": [
    "import pandas as pd\n",
    "import numpy as np\n",
    "import matplotlib.pyplot as plt\n",
    "\n",
    "%matplotlib inline\n",
    "\n",
    "plt.style.use('ggplot')\n",
    "plt.rcParams['figure.figsize'] = (12,5)\n",
    "\n",
    "%reload_ext pycodestyle_magic"
   ]
  },
  {
   "cell_type": "code",
   "execution_count": 2,
   "metadata": {},
   "outputs": [],
   "source": [
    "#%%pycodestyle\n",
    "from sklearn.metrics import pairwise_distances\n",
    "\n",
    "\n",
    "class MyKmeans:\n",
    "\n",
    "    def __init__(self, k=2, metric='euclidean', max_iter=1000,\n",
    "                 random_state=None, init='random'):\n",
    "        \"\"\"\n",
    "        Инициализация метода\n",
    "        :k - количество кластеров\n",
    "        :metric - функция расстояния между объектами\n",
    "        :max_iter - максиальное количество итераций\n",
    "        :random_state - seed для инициализации генератора случайных чисел\n",
    "        \"\"\"\n",
    "\n",
    "        self.k = k\n",
    "        self.random_state = random_state\n",
    "        self.metric = metric\n",
    "        self.max_iter = max_iter\n",
    "        self.init = init\n",
    "\n",
    "    def fit(self, X, y=None):\n",
    "        \"\"\"\n",
    "        Процедура обучения k-means\n",
    "        \"\"\"\n",
    "\n",
    "        # Инициализация генератора случайных чисел\n",
    "        np.random.seed(self.random_state)\n",
    "\n",
    "        # Массив с метками кластеров для каждого объекта из X\n",
    "        self.labels = np.empty(X.shape[0])\n",
    "\n",
    "        # Массив с центройдами кластеров\n",
    "        self.centroids = np.empty((self.k, X.shape[1]))\n",
    "        # Your Code Here\n",
    "        if self.init == 'random':\n",
    "            self.centroids = X[np.random.choice(X.shape[0],\n",
    "                                                size=self.k)]\n",
    "        elif self.init == 'k-means':\n",
    "            self.centroids[0] = X[np.random.randint(0, X.shape[0])]\n",
    "            for i in range(1, self.k):\n",
    "                self.centroids = np.nan_to_num(self.centroids)\n",
    "                distances = np.min(pairwise_distances(X,\n",
    "                                                      self.centroids[:i],\n",
    "                                                      self.metric),\n",
    "                                   axis=1) ** 2\n",
    "                probabilities = distances / np.sum(distances)\n",
    "                self.centroids[i] = X[np.random.choice(\n",
    "                    range(X.shape[0]), p=probabilities)]\n",
    "        for i in range(self.max_iter):\n",
    "            next_centroids = self.centroids\n",
    "            self.labels = np.argmin(pairwise_distances(X, self.centroids,\n",
    "                                                       metric=self.metric),\n",
    "                                    axis=1)\n",
    "            next_centroids = np.array([X[self.labels == j].mean(axis=0)\n",
    "                                       for j in range(self.k)])\n",
    "            if np.all(self.centroids == next_centroids):\n",
    "                break\n",
    "            self.centroids = next_centroids\n",
    "        return self\n",
    "\n",
    "    def predict(self, X, y=None):\n",
    "        \"\"\"\n",
    "        Процедура предсказания кластера\n",
    "\n",
    "        Возвращает метку ближайшего кластера для каждого объекта\n",
    "        \"\"\"\n",
    "        return np.argmin(pairwise_distances(X, self.centroids,\n",
    "                                            metric=self.metric), axis=1)\n",
    "\n",
    "\n",
    "class MiniBatchKMeans(MyKmeans):\n",
    "\n",
    "    def __init__(self, k=2, metric='euclidean', max_iter=1000,\n",
    "                 random_state=None, init='random', batch_size=100):\n",
    "        super().__init__(k, metric, max_iter, random_state, init)\n",
    "        self.batch_size = batch_size\n",
    "\n",
    "    def fit(self, X, y=None):\n",
    "        \"\"\"\n",
    "        Процедура обучения k-means\n",
    "        \"\"\"\n",
    "\n",
    "        # Инициализация генератора случайных чисел\n",
    "        np.random.seed(self.random_state)\n",
    "\n",
    "        # Массив с метками кластеров для каждого объекта из X\n",
    "        self.labels = np.empty(X.shape[0])\n",
    "\n",
    "        # Массив с центройдами кластеров\n",
    "        self.centroids = np.empty((self.k, X.shape[1]))\n",
    "\n",
    "        if self.init == 'random':\n",
    "            self.centroids = X[np.random.choice(X.shape[0],\n",
    "                                                size=self.k)]\n",
    "        elif self.init == 'k-means':\n",
    "            self.centroids[0] = X[np.random.randint(0, X.shape[0])]\n",
    "            for i in range(1, self.k):\n",
    "                self.centroids = np.nan_to_num(self.centroids)\n",
    "                distances = np.min(pairwise_distances(X,\n",
    "                                                      self.centroids[:i],\n",
    "                                                      self.metric),\n",
    "                                   axis=1) ** 2\n",
    "                probabilities = distances / np.sum(distances)\n",
    "                self.centroids[i] = X[np.random.choice(\n",
    "                    range(X.shape[0]), p=probabilities)]\n",
    "        counts = np.zeros(self.k)\n",
    "        for i in range(self.max_iter):\n",
    "            if self.batch_size > X.shape[0]:\n",
    "                X_batch = X\n",
    "            else:\n",
    "                X_batch = X[np.random.choice(X.shape[0], size=self.batch_size)]\n",
    "            self.labels = np.argmin(pairwise_distances(X_batch, self.centroids,\n",
    "                                                       metric=self.metric),\n",
    "                                    axis=1) \n",
    "            next_centroids = self.centroids\n",
    "            for j in range(X_batch.shape[0]):\n",
    "                cluster = self.labels[j]\n",
    "                counts[cluster] += 1\n",
    "                next_centroids[cluster] = (1 - (1 / counts[cluster])) * next_centroids[cluster] +\\\n",
    "                    X_batch[j] / counts[cluster]\n",
    "            if np.all(next_centroids == self.centroids):\n",
    "                break\n",
    "            self.centroids = next_centroids\n",
    "\n",
    "        self.labels = np.argmin(pairwise_distances(X, self.centroids,\n",
    "                                                       metric=self.metric),\n",
    "                                    axis=1) \n",
    "        return self"
   ]
  },
  {
   "cell_type": "markdown",
   "metadata": {},
   "source": [
    "### Проверка корректности метода\n",
    "\n",
    "Перед тем как применять алгоритм на реальных данных, нужно испытать его на простых \"игрушечных\" данных.\n",
    "\n",
    "Если алгоритм реализован правильно, то метод должен идеально разбивать на 3 кластера данные ниже. Проверьте это.\n",
    "\n",
    "ВНИМАНИЕ! Проверка должна быть осуществлена на всех реализациях, иначе реализация не будет зачтена!"
   ]
  },
  {
   "cell_type": "code",
   "execution_count": 3,
   "metadata": {},
   "outputs": [],
   "source": [
    "from sklearn.datasets import make_blobs"
   ]
  },
  {
   "cell_type": "code",
   "execution_count": 4,
   "metadata": {},
   "outputs": [],
   "source": [
    "X, y = make_blobs(n_samples=100, n_features=2, centers=3, cluster_std=1, \n",
    "           center_box=(-10.0, 10.0), shuffle=False, random_state=1234)"
   ]
  },
  {
   "cell_type": "code",
   "execution_count": 5,
   "metadata": {},
   "outputs": [
    {
     "data": {
      "text/plain": [
       "<matplotlib.collections.PathCollection at 0x255d6f97630>"
      ]
     },
     "execution_count": 5,
     "metadata": {},
     "output_type": "execute_result"
    },
    {
     "data": {
      "image/png": "[encoded data removed]",
      "text/plain": [
       "<Figure size 432x288 with 1 Axes>"
      ]
     },
     "metadata": {
      "needs_background": "light"
     },
     "output_type": "display_data"
    }
   ],
   "source": [
    "plt.scatter(X[:,0], X[:, 1], c=y)"
   ]
  },
  {
   "cell_type": "markdown",
   "metadata": {},
   "source": [
    "Проверьте Вашу имплементацию на простых данных (без этого пункта ДЗ не считается выполненным).   \n",
    "КОММЕНТАРИИ НЕ СТИРАТЬ!"
   ]
  },
  {
   "cell_type": "code",
   "execution_count": 6,
   "metadata": {},
   "outputs": [
    {
     "data": {
      "text/plain": [
       "<matplotlib.collections.PathCollection at 0x255d80278d0>"
      ]
     },
     "execution_count": 6,
     "metadata": {},
     "output_type": "execute_result"
    },
    {
     "data": {
      "image/png": "[encoded data removed]",
      "text/plain": [
       "<Figure size 432x288 with 1 Axes>"
      ]
     },
     "metadata": {
      "needs_background": "light"
     },
     "output_type": "display_data"
    }
   ],
   "source": [
    "## Работоспособность MyKmeans\n",
    "my_kmeans = MyKmeans(k=3)\n",
    "my_kmeans.fit(X)\n",
    "plt.scatter(X[:, 0], X[:, 1], c=my_kmeans.predict(X))\n",
    "plt.scatter(my_kmeans.centroids[:, 0], my_kmeans.centroids[:, 1])"
   ]
  },
  {
   "cell_type": "code",
   "execution_count": 7,
   "metadata": {},
   "outputs": [
    {
     "data": {
      "text/plain": [
       "<matplotlib.collections.PathCollection at 0x255d82f15c0>"
      ]
     },
     "execution_count": 7,
     "metadata": {},
     "output_type": "execute_result"
    },
    {
     "data": {
      "image/png": "[encoded data removed]",
      "text/plain": [
       "<Figure size 432x288 with 1 Axes>"
      ]
     },
     "metadata": {
      "needs_background": "light"
     },
     "output_type": "display_data"
    }
   ],
   "source": [
    "## Работоспособность MyKmeans++\n",
    "my_kmeans = MyKmeans(k=3, init='k-means')\n",
    "my_kmeans.fit(X)\n",
    "plt.scatter(X[:, 0], X[:, 1], c=my_kmeans.predict(X))\n",
    "plt.scatter(my_kmeans.centroids[:, 0], my_kmeans.centroids[:, 1])"
   ]
  },
  {
   "cell_type": "code",
   "execution_count": 8,
   "metadata": {},
   "outputs": [
    {
     "data": {
      "text/plain": [
       "<matplotlib.collections.PathCollection at 0x255d8359da0>"
      ]
     },
     "execution_count": 8,
     "metadata": {},
     "output_type": "execute_result"
    },
    {
     "data": {
      "image/png": "[encoded data removed]",
      "text/plain": [
       "<Figure size 432x288 with 1 Axes>"
      ]
     },
     "metadata": {
      "needs_background": "light"
     },
     "output_type": "display_data"
    }
   ],
   "source": [
    "## Работоспособность MyKmeans с MiniBatchMyKmeans\n",
    "my_kmeans = MiniBatchKMeans(k=3)\n",
    "my_kmeans.fit(X)\n",
    "plt.scatter(X[:, 0], X[:, 1], c=my_kmeans.predict(X))\n",
    "plt.scatter(my_kmeans.centroids[:, 0], my_kmeans.centroids[:, 1])"
   ]
  },
  {
   "cell_type": "code",
   "execution_count": 9,
   "metadata": {
    "scrolled": true
   },
   "outputs": [
    {
     "data": {
      "text/plain": [
       "<matplotlib.collections.PathCollection at 0x255d83cf710>"
      ]
     },
     "execution_count": 9,
     "metadata": {},
     "output_type": "execute_result"
    },
    {
     "data": {
      "image/png": "[encoded data removed]",
      "text/plain": [
       "<Figure size 432x288 with 1 Axes>"
      ]
     },
     "metadata": {
      "needs_background": "light"
     },
     "output_type": "display_data"
    }
   ],
   "source": [
    "## Работоспособность MyKmeans++ с MiniBatchMyKmeans\n",
    "my_kmeans = MiniBatchKMeans(k=3, init='k-means')\n",
    "my_kmeans.fit(X)\n",
    "plt.scatter(X[:, 0], X[:, 1], c=my_kmeans.predict(X))\n",
    "plt.scatter(my_kmeans.centroids[:, 0], my_kmeans.centroids[:, 1])"
   ]
  },
  {
   "cell_type": "code",
   "execution_count": 10,
   "metadata": {},
   "outputs": [
    {
     "name": "stdout",
     "output_type": "stream",
     "text": [
      "351.8ms\n"
     ]
    }
   ],
   "source": [
    "## Время выполнения алгоритма Kmeans из sklearn\n",
    "from sklearn.cluster import KMeans\n",
    "from time import time\n",
    "start = time()\n",
    "kmeans = KMeans(n_clusters=3, init='random', max_iter=1000,\n",
    "                precompute_distances=False, n_init=1, tol=0)\n",
    "kmeans.fit(X)\n",
    "prediction = kmeans.predict(X)\n",
    "end = time()\n",
    "time = end - start\n",
    "print(\"%.1fms\" % (time * 1000))"
   ]
  },
  {
   "cell_type": "code",
   "execution_count": 11,
   "metadata": {},
   "outputs": [
    {
     "name": "stdout",
     "output_type": "stream",
     "text": [
      "5.0ms\n"
     ]
    }
   ],
   "source": [
    "## Время выполнения алгоритма MyKmeans\n",
    "from time import time\n",
    "start = time()\n",
    "my_kmeans = MyKmeans(k=3)\n",
    "my_kmeans.fit(X)\n",
    "prediction = my_kmeans.predict(X)\n",
    "end = time()\n",
    "time = end - start\n",
    "print(\"%.1fms\" % (time * 1000))"
   ]
  },
  {
   "cell_type": "code",
   "execution_count": 12,
   "metadata": {},
   "outputs": [
    {
     "name": "stdout",
     "output_type": "stream",
     "text": [
      "9.0ms\n"
     ]
    }
   ],
   "source": [
    "## Время выполнения алгоритма MyKmeans++\n",
    "from time import time\n",
    "start = time()\n",
    "my_kmeans = MyKmeans(k=3, init='k-means')\n",
    "my_kmeans.fit(X)\n",
    "prediction = my_kmeans.predict(X)\n",
    "end = time()\n",
    "time = end - start\n",
    "print(\"%.1fms\" % (time * 1000))"
   ]
  },
  {
   "cell_type": "code",
   "execution_count": 13,
   "metadata": {},
   "outputs": [
    {
     "name": "stdout",
     "output_type": "stream",
     "text": [
      "7.0ms\n"
     ]
    }
   ],
   "source": [
    "## Время выполнения алгоритма MyKmeans с MiniBatchMyKmeans\n",
    "from time import time\n",
    "my_kmeans = MiniBatchKMeans(k=3)\n",
    "start = time()\n",
    "my_kmeans.fit(X)\n",
    "end = time()\n",
    "prediction = my_kmeans.predict(X)\n",
    "time = end - start\n",
    "print(\"%.1fms\" % (time * 1000))"
   ]
  },
  {
   "cell_type": "code",
   "execution_count": 14,
   "metadata": {},
   "outputs": [
    {
     "name": "stdout",
     "output_type": "stream",
     "text": [
      "11.0ms\n"
     ]
    }
   ],
   "source": [
    "## Время выполнения алгоритма  MyKmeans++ с MiniBatchMyKmeans\n",
    "from time import time\n",
    "start = time()\n",
    "my_kmeans = MiniBatchKMeans(k=3, init='k-means')\n",
    "my_kmeans.fit(X)\n",
    "prediction = my_kmeans.predict(X)\n",
    "end = time()\n",
    "time = end - start\n",
    "print(\"%.1fms\" % (time * 1000))"
   ]
  },
  {
   "cell_type": "code",
   "execution_count": 15,
   "metadata": {},
   "outputs": [
    {
     "data": {
      "image/png": "[encoded data removed]",
      "text/plain": [
       "<Figure size 432x288 with 1 Axes>"
      ]
     },
     "metadata": {
      "needs_background": "light"
     },
     "output_type": "display_data"
    }
   ],
   "source": [
    "from time import time\n",
    "from sklearn.cluster import KMeans\n",
    "algorithms = (KMeans(n_clusters=3, init='random', max_iter=1000, n_init=1, tol=0),\n",
    "              MyKmeans(k=3),\n",
    "              MyKmeans(k=3, init='k-means'),\n",
    "              MiniBatchKMeans(k=3),\n",
    "              MiniBatchKMeans(k=3, init='k-means'))\n",
    "labels = (\"k-means\", \"my k-means\", \"my k-means++\",\n",
    "          \"my k-means with MiniBatchKMeans\",\n",
    "          \"my k-means with MiniBatchKMeans++\")\n",
    "samples = [1000, 5000, 10000, 50000, 100000]\n",
    "times = np.empty((5, len(samples)))\n",
    "for i, sample in enumerate(samples):\n",
    "    X, y = make_blobs(n_samples=sample, n_features=2, centers=3, cluster_std=1,\n",
    "                      center_box=(-10.0, 10.0), shuffle=False,\n",
    "                      random_state=1234)\n",
    "    for j, kmean in enumerate(algorithms):\n",
    "        start = time()\n",
    "        kmean.fit(X)\n",
    "        end = time()\n",
    "        times[j][i] = end - start\n",
    "for i, kmean in enumerate(algorithms):\n",
    "    plt.plot(samples, times[i], label=labels[i])\n",
    "plt.xlabel('Number of samples')\n",
    "plt.ylabel('The run time of algoritm')\n",
    "plt.legend()\n",
    "plt.show()"
   ]
  },
  {
   "cell_type": "markdown",
   "metadata": {},
   "source": [
    "# Применение K-means на реальных данных"
   ]
  },
  {
   "cell_type": "markdown",
   "metadata": {},
   "source": [
    "Загрузите [данные](https://github.com/brenden17/sklearnlab/blob/master/facebook/snsdata.csv) в которых содержится описание интересов профилей учеников старшей школы США.  (без этого пункта задание не считается выполненным).   \n",
    "ВНИМАНИЕ! Проверка должна быть осуществлена на всех реализациях, иначе реализация не будет зачтена!"
   ]
  },
  {
   "cell_type": "code",
   "execution_count": 3,
   "metadata": {},
   "outputs": [
    {
     "data": {
      "text/html": [
       "<div>\n",
       "<style scoped>\n",
       "    .dataframe tbody tr th:only-of-type {\n",
       "        vertical-align: middle;\n",
       "    }\n",
       "\n",
       "    .dataframe tbody tr th {\n",
       "        vertical-align: top;\n",
       "    }\n",
       "\n",
       "    .dataframe thead th {\n",
       "        text-align: right;\n",
       "    }\n",
       "</style>\n",
       "<table border=\"1\" class=\"dataframe\">\n",
       "  <thead>\n",
       "    <tr style=\"text-align: right;\">\n",
       "      <th></th>\n",
       "      <th>gradyear</th>\n",
       "      <th>gender</th>\n",
       "      <th>age</th>\n",
       "      <th>friends</th>\n",
       "      <th>basketball</th>\n",
       "      <th>football</th>\n",
       "      <th>soccer</th>\n",
       "      <th>softball</th>\n",
       "      <th>volleyball</th>\n",
       "      <th>swimming</th>\n",
       "      <th>...</th>\n",
       "      <th>blonde</th>\n",
       "      <th>mall</th>\n",
       "      <th>shopping</th>\n",
       "      <th>clothes</th>\n",
       "      <th>hollister</th>\n",
       "      <th>abercrombie</th>\n",
       "      <th>die</th>\n",
       "      <th>death</th>\n",
       "      <th>drunk</th>\n",
       "      <th>drugs</th>\n",
       "    </tr>\n",
       "  </thead>\n",
       "  <tbody>\n",
       "    <tr>\n",
       "      <th>0</th>\n",
       "      <td>2006</td>\n",
       "      <td>M</td>\n",
       "      <td>18.982</td>\n",
       "      <td>7</td>\n",
       "      <td>0</td>\n",
       "      <td>0</td>\n",
       "      <td>0</td>\n",
       "      <td>0</td>\n",
       "      <td>0</td>\n",
       "      <td>0</td>\n",
       "      <td>...</td>\n",
       "      <td>0</td>\n",
       "      <td>0</td>\n",
       "      <td>0</td>\n",
       "      <td>0</td>\n",
       "      <td>0</td>\n",
       "      <td>0</td>\n",
       "      <td>0</td>\n",
       "      <td>0</td>\n",
       "      <td>0</td>\n",
       "      <td>0</td>\n",
       "    </tr>\n",
       "    <tr>\n",
       "      <th>1</th>\n",
       "      <td>2006</td>\n",
       "      <td>F</td>\n",
       "      <td>18.801</td>\n",
       "      <td>0</td>\n",
       "      <td>0</td>\n",
       "      <td>1</td>\n",
       "      <td>0</td>\n",
       "      <td>0</td>\n",
       "      <td>0</td>\n",
       "      <td>0</td>\n",
       "      <td>...</td>\n",
       "      <td>0</td>\n",
       "      <td>1</td>\n",
       "      <td>0</td>\n",
       "      <td>0</td>\n",
       "      <td>0</td>\n",
       "      <td>0</td>\n",
       "      <td>0</td>\n",
       "      <td>0</td>\n",
       "      <td>0</td>\n",
       "      <td>0</td>\n",
       "    </tr>\n",
       "    <tr>\n",
       "      <th>2</th>\n",
       "      <td>2006</td>\n",
       "      <td>M</td>\n",
       "      <td>18.335</td>\n",
       "      <td>69</td>\n",
       "      <td>0</td>\n",
       "      <td>1</td>\n",
       "      <td>0</td>\n",
       "      <td>0</td>\n",
       "      <td>0</td>\n",
       "      <td>0</td>\n",
       "      <td>...</td>\n",
       "      <td>0</td>\n",
       "      <td>0</td>\n",
       "      <td>0</td>\n",
       "      <td>0</td>\n",
       "      <td>0</td>\n",
       "      <td>0</td>\n",
       "      <td>0</td>\n",
       "      <td>1</td>\n",
       "      <td>0</td>\n",
       "      <td>0</td>\n",
       "    </tr>\n",
       "    <tr>\n",
       "      <th>3</th>\n",
       "      <td>2006</td>\n",
       "      <td>F</td>\n",
       "      <td>18.875</td>\n",
       "      <td>0</td>\n",
       "      <td>0</td>\n",
       "      <td>0</td>\n",
       "      <td>0</td>\n",
       "      <td>0</td>\n",
       "      <td>0</td>\n",
       "      <td>0</td>\n",
       "      <td>...</td>\n",
       "      <td>0</td>\n",
       "      <td>0</td>\n",
       "      <td>0</td>\n",
       "      <td>0</td>\n",
       "      <td>0</td>\n",
       "      <td>0</td>\n",
       "      <td>0</td>\n",
       "      <td>0</td>\n",
       "      <td>0</td>\n",
       "      <td>0</td>\n",
       "    </tr>\n",
       "    <tr>\n",
       "      <th>4</th>\n",
       "      <td>2006</td>\n",
       "      <td>NaN</td>\n",
       "      <td>18.995</td>\n",
       "      <td>10</td>\n",
       "      <td>0</td>\n",
       "      <td>0</td>\n",
       "      <td>0</td>\n",
       "      <td>0</td>\n",
       "      <td>0</td>\n",
       "      <td>0</td>\n",
       "      <td>...</td>\n",
       "      <td>0</td>\n",
       "      <td>0</td>\n",
       "      <td>2</td>\n",
       "      <td>0</td>\n",
       "      <td>0</td>\n",
       "      <td>0</td>\n",
       "      <td>0</td>\n",
       "      <td>0</td>\n",
       "      <td>1</td>\n",
       "      <td>1</td>\n",
       "    </tr>\n",
       "  </tbody>\n",
       "</table>\n",
       "<p>5 rows × 40 columns</p>\n",
       "</div>"
      ],
      "text/plain": [
       "   gradyear gender     age  friends  basketball  football  soccer  softball  \\\n",
       "0      2006      M  18.982        7           0         0       0         0   \n",
       "1      2006      F  18.801        0           0         1       0         0   \n",
       "2      2006      M  18.335       69           0         1       0         0   \n",
       "3      2006      F  18.875        0           0         0       0         0   \n",
       "4      2006    NaN  18.995       10           0         0       0         0   \n",
       "\n",
       "   volleyball  swimming  ...    blonde  mall  shopping  clothes  hollister  \\\n",
       "0           0         0  ...         0     0         0        0          0   \n",
       "1           0         0  ...         0     1         0        0          0   \n",
       "2           0         0  ...         0     0         0        0          0   \n",
       "3           0         0  ...         0     0         0        0          0   \n",
       "4           0         0  ...         0     0         2        0          0   \n",
       "\n",
       "   abercrombie  die  death  drunk  drugs  \n",
       "0            0    0      0      0      0  \n",
       "1            0    0      0      0      0  \n",
       "2            0    0      1      0      0  \n",
       "3            0    0      0      0      0  \n",
       "4            0    0      0      1      1  \n",
       "\n",
       "[5 rows x 40 columns]"
      ]
     },
     "execution_count": 3,
     "metadata": {},
     "output_type": "execute_result"
    }
   ],
   "source": [
    "df_sns = pd.read_csv('snsdata.csv', sep=',', error_bad_lines=False)\n",
    "df_sns.head()"
   ]
  },
  {
   "cell_type": "markdown",
   "metadata": {},
   "source": [
    "Данные устроены так: \n",
    "* Год выпуска\n",
    "* Пол\n",
    "* Возраст\n",
    "* Количество друзей\n",
    "* 36 ключевых слов, которые встречаются в профилe facebook (интересы, сообщества, встречи)"
   ]
  },
  {
   "cell_type": "markdown",
   "metadata": {},
   "source": [
    "* Удалите все признаки кроме 36 ключевых слов.\n",
    "* Нормализуйте данные - из каждого столбца вычтите его среднее значение и поделите на стандартное отклонение.\n",
    "* Используйте метод k-means чтобы выделить 9 кластеров\n",
    "* Попробуйте проинтерпретировать каждый кластер проанализировав полученные центройды (Некоторые кластеры могут быть очень большие и очень маленькие - плохо интерпретируются)   \n",
    "КОММЕНТАРИИ НЕ СТИРАТЬ!"
   ]
  },
  {
   "cell_type": "code",
   "execution_count": 4,
   "metadata": {},
   "outputs": [
    {
     "data": {
      "text/html": [
       "<div>\n",
       "<style scoped>\n",
       "    .dataframe tbody tr th:only-of-type {\n",
       "        vertical-align: middle;\n",
       "    }\n",
       "\n",
       "    .dataframe tbody tr th {\n",
       "        vertical-align: top;\n",
       "    }\n",
       "\n",
       "    .dataframe thead th {\n",
       "        text-align: right;\n",
       "    }\n",
       "</style>\n",
       "<table border=\"1\" class=\"dataframe\">\n",
       "  <thead>\n",
       "    <tr style=\"text-align: right;\">\n",
       "      <th></th>\n",
       "      <th>basketball</th>\n",
       "      <th>football</th>\n",
       "      <th>soccer</th>\n",
       "      <th>softball</th>\n",
       "      <th>volleyball</th>\n",
       "      <th>swimming</th>\n",
       "      <th>cheerleading</th>\n",
       "      <th>baseball</th>\n",
       "      <th>tennis</th>\n",
       "      <th>sports</th>\n",
       "      <th>...</th>\n",
       "      <th>blonde</th>\n",
       "      <th>mall</th>\n",
       "      <th>shopping</th>\n",
       "      <th>clothes</th>\n",
       "      <th>hollister</th>\n",
       "      <th>abercrombie</th>\n",
       "      <th>die</th>\n",
       "      <th>death</th>\n",
       "      <th>drunk</th>\n",
       "      <th>drugs</th>\n",
       "    </tr>\n",
       "  </thead>\n",
       "  <tbody>\n",
       "    <tr>\n",
       "      <th>0</th>\n",
       "      <td>0</td>\n",
       "      <td>0</td>\n",
       "      <td>0</td>\n",
       "      <td>0</td>\n",
       "      <td>0</td>\n",
       "      <td>0</td>\n",
       "      <td>0</td>\n",
       "      <td>0</td>\n",
       "      <td>0</td>\n",
       "      <td>0</td>\n",
       "      <td>...</td>\n",
       "      <td>0</td>\n",
       "      <td>0</td>\n",
       "      <td>0</td>\n",
       "      <td>0</td>\n",
       "      <td>0</td>\n",
       "      <td>0</td>\n",
       "      <td>0</td>\n",
       "      <td>0</td>\n",
       "      <td>0</td>\n",
       "      <td>0</td>\n",
       "    </tr>\n",
       "    <tr>\n",
       "      <th>1</th>\n",
       "      <td>0</td>\n",
       "      <td>1</td>\n",
       "      <td>0</td>\n",
       "      <td>0</td>\n",
       "      <td>0</td>\n",
       "      <td>0</td>\n",
       "      <td>0</td>\n",
       "      <td>0</td>\n",
       "      <td>0</td>\n",
       "      <td>0</td>\n",
       "      <td>...</td>\n",
       "      <td>0</td>\n",
       "      <td>1</td>\n",
       "      <td>0</td>\n",
       "      <td>0</td>\n",
       "      <td>0</td>\n",
       "      <td>0</td>\n",
       "      <td>0</td>\n",
       "      <td>0</td>\n",
       "      <td>0</td>\n",
       "      <td>0</td>\n",
       "    </tr>\n",
       "    <tr>\n",
       "      <th>2</th>\n",
       "      <td>0</td>\n",
       "      <td>1</td>\n",
       "      <td>0</td>\n",
       "      <td>0</td>\n",
       "      <td>0</td>\n",
       "      <td>0</td>\n",
       "      <td>0</td>\n",
       "      <td>0</td>\n",
       "      <td>0</td>\n",
       "      <td>0</td>\n",
       "      <td>...</td>\n",
       "      <td>0</td>\n",
       "      <td>0</td>\n",
       "      <td>0</td>\n",
       "      <td>0</td>\n",
       "      <td>0</td>\n",
       "      <td>0</td>\n",
       "      <td>0</td>\n",
       "      <td>1</td>\n",
       "      <td>0</td>\n",
       "      <td>0</td>\n",
       "    </tr>\n",
       "    <tr>\n",
       "      <th>3</th>\n",
       "      <td>0</td>\n",
       "      <td>0</td>\n",
       "      <td>0</td>\n",
       "      <td>0</td>\n",
       "      <td>0</td>\n",
       "      <td>0</td>\n",
       "      <td>0</td>\n",
       "      <td>0</td>\n",
       "      <td>0</td>\n",
       "      <td>0</td>\n",
       "      <td>...</td>\n",
       "      <td>0</td>\n",
       "      <td>0</td>\n",
       "      <td>0</td>\n",
       "      <td>0</td>\n",
       "      <td>0</td>\n",
       "      <td>0</td>\n",
       "      <td>0</td>\n",
       "      <td>0</td>\n",
       "      <td>0</td>\n",
       "      <td>0</td>\n",
       "    </tr>\n",
       "    <tr>\n",
       "      <th>4</th>\n",
       "      <td>0</td>\n",
       "      <td>0</td>\n",
       "      <td>0</td>\n",
       "      <td>0</td>\n",
       "      <td>0</td>\n",
       "      <td>0</td>\n",
       "      <td>0</td>\n",
       "      <td>0</td>\n",
       "      <td>0</td>\n",
       "      <td>0</td>\n",
       "      <td>...</td>\n",
       "      <td>0</td>\n",
       "      <td>0</td>\n",
       "      <td>2</td>\n",
       "      <td>0</td>\n",
       "      <td>0</td>\n",
       "      <td>0</td>\n",
       "      <td>0</td>\n",
       "      <td>0</td>\n",
       "      <td>1</td>\n",
       "      <td>1</td>\n",
       "    </tr>\n",
       "  </tbody>\n",
       "</table>\n",
       "<p>5 rows × 36 columns</p>\n",
       "</div>"
      ],
      "text/plain": [
       "   basketball  football  soccer  softball  volleyball  swimming  cheerleading  \\\n",
       "0           0         0       0         0           0         0             0   \n",
       "1           0         1       0         0           0         0             0   \n",
       "2           0         1       0         0           0         0             0   \n",
       "3           0         0       0         0           0         0             0   \n",
       "4           0         0       0         0           0         0             0   \n",
       "\n",
       "   baseball  tennis  sports  ...    blonde  mall  shopping  clothes  \\\n",
       "0         0       0       0  ...         0     0         0        0   \n",
       "1         0       0       0  ...         0     1         0        0   \n",
       "2         0       0       0  ...         0     0         0        0   \n",
       "3         0       0       0  ...         0     0         0        0   \n",
       "4         0       0       0  ...         0     0         2        0   \n",
       "\n",
       "   hollister  abercrombie  die  death  drunk  drugs  \n",
       "0          0            0    0      0      0      0  \n",
       "1          0            0    0      0      0      0  \n",
       "2          0            0    0      1      0      0  \n",
       "3          0            0    0      0      0      0  \n",
       "4          0            0    0      0      1      1  \n",
       "\n",
       "[5 rows x 36 columns]"
      ]
     },
     "execution_count": 4,
     "metadata": {},
     "output_type": "execute_result"
    }
   ],
   "source": [
    "#Удаление всех признаков, кроме ключевых слов\n",
    "df_sns = df_sns.drop(['gradyear', 'gender', 'age', 'friends'], axis='columns')\n",
    "df_sns.head()"
   ]
  },
  {
   "cell_type": "code",
   "execution_count": 5,
   "metadata": {},
   "outputs": [
    {
     "data": {
      "text/html": [
       "<div>\n",
       "<style scoped>\n",
       "    .dataframe tbody tr th:only-of-type {\n",
       "        vertical-align: middle;\n",
       "    }\n",
       "\n",
       "    .dataframe tbody tr th {\n",
       "        vertical-align: top;\n",
       "    }\n",
       "\n",
       "    .dataframe thead th {\n",
       "        text-align: right;\n",
       "    }\n",
       "</style>\n",
       "<table border=\"1\" class=\"dataframe\">\n",
       "  <thead>\n",
       "    <tr style=\"text-align: right;\">\n",
       "      <th></th>\n",
       "      <th>basketball</th>\n",
       "      <th>football</th>\n",
       "      <th>soccer</th>\n",
       "      <th>softball</th>\n",
       "      <th>volleyball</th>\n",
       "      <th>swimming</th>\n",
       "      <th>cheerleading</th>\n",
       "      <th>baseball</th>\n",
       "      <th>tennis</th>\n",
       "      <th>sports</th>\n",
       "      <th>...</th>\n",
       "      <th>blonde</th>\n",
       "      <th>mall</th>\n",
       "      <th>shopping</th>\n",
       "      <th>clothes</th>\n",
       "      <th>hollister</th>\n",
       "      <th>abercrombie</th>\n",
       "      <th>die</th>\n",
       "      <th>death</th>\n",
       "      <th>drunk</th>\n",
       "      <th>drugs</th>\n",
       "    </tr>\n",
       "  </thead>\n",
       "  <tbody>\n",
       "    <tr>\n",
       "      <th>0</th>\n",
       "      <td>-0.332212</td>\n",
       "      <td>-0.357691</td>\n",
       "      <td>-0.24287</td>\n",
       "      <td>-0.217924</td>\n",
       "      <td>-0.223666</td>\n",
       "      <td>-0.259966</td>\n",
       "      <td>-0.207324</td>\n",
       "      <td>-0.201127</td>\n",
       "      <td>-0.168936</td>\n",
       "      <td>-0.297118</td>\n",
       "      <td>...</td>\n",
       "      <td>-0.050936</td>\n",
       "      <td>-0.369909</td>\n",
       "      <td>-0.487306</td>\n",
       "      <td>-0.314193</td>\n",
       "      <td>-0.201473</td>\n",
       "      <td>-0.183029</td>\n",
       "      <td>-0.294788</td>\n",
       "      <td>-0.261526</td>\n",
       "      <td>-0.220399</td>\n",
       "      <td>-0.174905</td>\n",
       "    </tr>\n",
       "    <tr>\n",
       "      <th>1</th>\n",
       "      <td>-0.332212</td>\n",
       "      <td>1.060031</td>\n",
       "      <td>-0.24287</td>\n",
       "      <td>-0.217924</td>\n",
       "      <td>-0.223666</td>\n",
       "      <td>-0.259966</td>\n",
       "      <td>-0.207324</td>\n",
       "      <td>-0.201127</td>\n",
       "      <td>-0.168936</td>\n",
       "      <td>-0.297118</td>\n",
       "      <td>...</td>\n",
       "      <td>-0.050936</td>\n",
       "      <td>1.067374</td>\n",
       "      <td>-0.487306</td>\n",
       "      <td>-0.314193</td>\n",
       "      <td>-0.201473</td>\n",
       "      <td>-0.183029</td>\n",
       "      <td>-0.294788</td>\n",
       "      <td>-0.261526</td>\n",
       "      <td>-0.220399</td>\n",
       "      <td>-0.174905</td>\n",
       "    </tr>\n",
       "    <tr>\n",
       "      <th>2</th>\n",
       "      <td>-0.332212</td>\n",
       "      <td>1.060031</td>\n",
       "      <td>-0.24287</td>\n",
       "      <td>-0.217924</td>\n",
       "      <td>-0.223666</td>\n",
       "      <td>-0.259966</td>\n",
       "      <td>-0.207324</td>\n",
       "      <td>-0.201127</td>\n",
       "      <td>-0.168936</td>\n",
       "      <td>-0.297118</td>\n",
       "      <td>...</td>\n",
       "      <td>-0.050936</td>\n",
       "      <td>-0.369909</td>\n",
       "      <td>-0.487306</td>\n",
       "      <td>-0.314193</td>\n",
       "      <td>-0.201473</td>\n",
       "      <td>-0.183029</td>\n",
       "      <td>-0.294788</td>\n",
       "      <td>2.027874</td>\n",
       "      <td>-0.220399</td>\n",
       "      <td>-0.174905</td>\n",
       "    </tr>\n",
       "    <tr>\n",
       "      <th>3</th>\n",
       "      <td>-0.332212</td>\n",
       "      <td>-0.357691</td>\n",
       "      <td>-0.24287</td>\n",
       "      <td>-0.217924</td>\n",
       "      <td>-0.223666</td>\n",
       "      <td>-0.259966</td>\n",
       "      <td>-0.207324</td>\n",
       "      <td>-0.201127</td>\n",
       "      <td>-0.168936</td>\n",
       "      <td>-0.297118</td>\n",
       "      <td>...</td>\n",
       "      <td>-0.050936</td>\n",
       "      <td>-0.369909</td>\n",
       "      <td>-0.487306</td>\n",
       "      <td>-0.314193</td>\n",
       "      <td>-0.201473</td>\n",
       "      <td>-0.183029</td>\n",
       "      <td>-0.294788</td>\n",
       "      <td>-0.261526</td>\n",
       "      <td>-0.220399</td>\n",
       "      <td>-0.174905</td>\n",
       "    </tr>\n",
       "    <tr>\n",
       "      <th>4</th>\n",
       "      <td>-0.332212</td>\n",
       "      <td>-0.357691</td>\n",
       "      <td>-0.24287</td>\n",
       "      <td>-0.217924</td>\n",
       "      <td>-0.223666</td>\n",
       "      <td>-0.259966</td>\n",
       "      <td>-0.207324</td>\n",
       "      <td>-0.201127</td>\n",
       "      <td>-0.168936</td>\n",
       "      <td>-0.297118</td>\n",
       "      <td>...</td>\n",
       "      <td>-0.050936</td>\n",
       "      <td>-0.369909</td>\n",
       "      <td>2.273635</td>\n",
       "      <td>-0.314193</td>\n",
       "      <td>-0.201473</td>\n",
       "      <td>-0.183029</td>\n",
       "      <td>-0.294788</td>\n",
       "      <td>-0.261526</td>\n",
       "      <td>2.285084</td>\n",
       "      <td>2.719271</td>\n",
       "    </tr>\n",
       "  </tbody>\n",
       "</table>\n",
       "<p>5 rows × 36 columns</p>\n",
       "</div>"
      ],
      "text/plain": [
       "   basketball  football   soccer  softball  volleyball  swimming  \\\n",
       "0   -0.332212 -0.357691 -0.24287 -0.217924   -0.223666 -0.259966   \n",
       "1   -0.332212  1.060031 -0.24287 -0.217924   -0.223666 -0.259966   \n",
       "2   -0.332212  1.060031 -0.24287 -0.217924   -0.223666 -0.259966   \n",
       "3   -0.332212 -0.357691 -0.24287 -0.217924   -0.223666 -0.259966   \n",
       "4   -0.332212 -0.357691 -0.24287 -0.217924   -0.223666 -0.259966   \n",
       "\n",
       "   cheerleading  baseball    tennis    sports    ...       blonde      mall  \\\n",
       "0     -0.207324 -0.201127 -0.168936 -0.297118    ...    -0.050936 -0.369909   \n",
       "1     -0.207324 -0.201127 -0.168936 -0.297118    ...    -0.050936  1.067374   \n",
       "2     -0.207324 -0.201127 -0.168936 -0.297118    ...    -0.050936 -0.369909   \n",
       "3     -0.207324 -0.201127 -0.168936 -0.297118    ...    -0.050936 -0.369909   \n",
       "4     -0.207324 -0.201127 -0.168936 -0.297118    ...    -0.050936 -0.369909   \n",
       "\n",
       "   shopping   clothes  hollister  abercrombie       die     death     drunk  \\\n",
       "0 -0.487306 -0.314193  -0.201473    -0.183029 -0.294788 -0.261526 -0.220399   \n",
       "1 -0.487306 -0.314193  -0.201473    -0.183029 -0.294788 -0.261526 -0.220399   \n",
       "2 -0.487306 -0.314193  -0.201473    -0.183029 -0.294788  2.027874 -0.220399   \n",
       "3 -0.487306 -0.314193  -0.201473    -0.183029 -0.294788 -0.261526 -0.220399   \n",
       "4  2.273635 -0.314193  -0.201473    -0.183029 -0.294788 -0.261526  2.285084   \n",
       "\n",
       "      drugs  \n",
       "0 -0.174905  \n",
       "1 -0.174905  \n",
       "2 -0.174905  \n",
       "3 -0.174905  \n",
       "4  2.719271  \n",
       "\n",
       "[5 rows x 36 columns]"
      ]
     },
     "execution_count": 5,
     "metadata": {},
     "output_type": "execute_result"
    }
   ],
   "source": [
    "#Нормализация данных: из каждого столбца вычитается его среднее значение и делится на стандартное отклонение\n",
    "df_sns = (df_sns - df_sns.mean()) / df_sns.std()\n",
    "df_sns.head()"
   ]
  },
  {
   "cell_type": "code",
   "execution_count": 7,
   "metadata": {},
   "outputs": [
    {
     "name": "stdout",
     "output_type": "stream",
     "text": [
      "Cluster:  1\n",
      "Number of students:  847\n",
      "Keywords:  ['clothes' 'mall' 'shopping' 'abercrombie' 'hollister'] \n",
      "\n",
      "Cluster:  2\n",
      "Number of students:  1648\n",
      "Keywords:  ['hair' 'cute' 'shopping' 'dance' 'dress'] \n",
      "\n",
      "Cluster:  3\n",
      "Number of students:  497\n",
      "Keywords:  ['rock' 'drugs' 'hair' 'sex' 'kissed'] \n",
      "\n",
      "Cluster:  4\n",
      "Number of students:  2338\n",
      "Keywords:  ['sports' 'softball' 'football' 'baseball' 'basketball'] \n",
      "\n",
      "Cluster:  5\n",
      "Number of students:  746\n",
      "Keywords:  ['swimming' 'rock' 'music' 'band' 'marching'] \n",
      "\n",
      "Cluster:  6\n",
      "Number of students:  18910\n",
      "Keywords:  ['bible' 'soccer' 'jesus' 'tennis' 'blonde'] \n",
      "\n",
      "Cluster:  7\n",
      "Number of students:  3739\n",
      "Keywords:  ['dance' 'hot' 'mall' 'cute' 'shopping'] \n",
      "\n",
      "Cluster:  8\n",
      "Number of students:  453\n",
      "Keywords:  ['death' 'church' 'god' 'jesus' 'bible'] \n",
      "\n",
      "Cluster:  9\n",
      "Number of students:  822\n",
      "Keywords:  ['death' 'hair' 'die' 'drugs' 'drunk'] \n",
      "\n"
     ]
    }
   ],
   "source": [
    "## MyKMeans\n",
    "keywords = df_sns.columns\n",
    "kmeans = MyKmeans(k=9)\n",
    "kmeans.fit(df_sns.values)\n",
    "for cluster, centroid in enumerate(kmeans.centroids):\n",
    "    print(\"Cluster: \", cluster + 1)\n",
    "    print(\"Number of students: \", kmeans.labels[kmeans.labels == cluster].size)\n",
    "    print(\"Keywords: \", keywords[np.argsort(centroid)[-5:]].values, \"\\n\")"
   ]
  },
  {
   "cell_type": "markdown",
   "metadata": {},
   "source": [
    "Описание кластеров: $$$$\n",
    "Cluster 1: Шопоголики.$$$$\n",
    "Cluster 2: Девушки, любящие милоту, платьица и танцы.$$$$\n",
    "Cluster 3: Люди, олицетворяющие фразу: \"Секс, наркотики и рок-н-ролл\".$$$$\n",
    "Cluster 4: Спортсмены.$$$$\n",
    "Cluster 5: Рок-музыканты, любящие плавать.$$$$\n",
    "Cluster 6: Слишком большой кластер - плохо интерпретируется, в целом спорт + религия.$$$$\n",
    "Cluster 7: Тусовщики.$$$$\n",
    "Cluster 8: Верующие люди.$$$$\n",
    "Cluster 9: Люди, которые как-то связаны с тяжёлыми болезнями.$$$$"
   ]
  },
  {
   "cell_type": "code",
   "execution_count": 9,
   "metadata": {},
   "outputs": [
    {
     "name": "stdout",
     "output_type": "stream",
     "text": [
      "Cluster:  1\n",
      "Number of students:  2460\n",
      "Keywords:  ['sports' 'baseball' 'football' 'softball' 'basketball'] \n",
      "\n",
      "Cluster:  2\n",
      "Number of students:  947\n",
      "Keywords:  ['drunk' 'sex' 'hair' 'drugs' 'kissed'] \n",
      "\n",
      "Cluster:  3\n",
      "Number of students:  584\n",
      "Keywords:  ['god' 'rock' 'music' 'band' 'marching'] \n",
      "\n",
      "Cluster:  4\n",
      "Number of students:  244\n",
      "Keywords:  ['basketball' 'soccer' 'church' 'sports' 'tennis'] \n",
      "\n",
      "Cluster:  5\n",
      "Number of students:  835\n",
      "Keywords:  ['clothes' 'mall' 'shopping' 'abercrombie' 'hollister'] \n",
      "\n",
      "Cluster:  6\n",
      "Number of students:  1\n",
      "Keywords:  ['hair' 'death' 'drunk' 'sex' 'blonde'] \n",
      "\n",
      "Cluster:  7\n",
      "Number of students:  4479\n",
      "Keywords:  ['church' 'mall' 'dance' 'cute' 'shopping'] \n",
      "\n",
      "Cluster:  8\n",
      "Number of students:  644\n",
      "Keywords:  ['mall' 'cute' 'football' 'shopping' 'cheerleading'] \n",
      "\n",
      "Cluster:  9\n",
      "Number of students:  19806\n",
      "Keywords:  ['drunk' 'death' 'bible' 'soccer' 'blonde'] \n",
      "\n"
     ]
    }
   ],
   "source": [
    "## MyKMeans++\n",
    "keywords = df_sns.columns\n",
    "kmeans = MyKmeans(k=9, init=\"k-means\")\n",
    "kmeans.fit(df_sns.values)\n",
    "for cluster, centroid in enumerate(kmeans.centroids):\n",
    "    print(\"Cluster: \", cluster + 1)\n",
    "    print(\"Number of students: \", kmeans.labels[kmeans.labels == cluster].size)\n",
    "    print(\"Keywords: \", keywords[np.argsort(centroid)[-5:]].values, \"\\n\")"
   ]
  },
  {
   "cell_type": "markdown",
   "metadata": {},
   "source": [
    "Описание кластеров: $$$$\n",
    "Cluster 1: Спортсмены.$$$$\n",
    "Cluster 2: Люди, любящие секс, наркотики и выпивку.Тусовщики?$$$$\n",
    "Cluster 3: Рок-музыканты.$$$$\n",
    "Cluster 4: Спортсмены верующие (не очень большой кластер).$$$$\n",
    "Cluster 5: Шопоголики.$$$$\n",
    "Cluster 6: Слишком маленький кластер - плохо интерпретируется.$$$$\n",
    "Cluster 7: Похоже, что просто девушки.$$$$\n",
    "Cluster 8: Черлидерши.$$$$\n",
    "Cluster 9: Слишком большой кластер - плохо интерпретируется, в целом спорт + религия.$$$$"
   ]
  },
  {
   "cell_type": "code",
   "execution_count": 8,
   "metadata": {},
   "outputs": [
    {
     "name": "stdout",
     "output_type": "stream",
     "text": [
      "Cluster:  1\n",
      "Number of students:  19519\n",
      "Keywords:  ['sex' 'blonde' 'abercrombie' 'sexy' 'bible'] \n",
      "\n",
      "Cluster:  2\n",
      "Number of students:  193\n",
      "Keywords:  ['mall' 'jesus' 'cute' 'clothes' 'drugs'] \n",
      "\n",
      "Cluster:  3\n",
      "Number of students:  2960\n",
      "Keywords:  ['rock' 'die' 'mall' 'clothes' 'shopping'] \n",
      "\n",
      "Cluster:  4\n",
      "Number of students:  1395\n",
      "Keywords:  ['jesus' 'shopping' 'sexy' 'drunk' 'church'] \n",
      "\n",
      "Cluster:  5\n",
      "Number of students:  1902\n",
      "Keywords:  ['death' 'jesus' 'band' 'volleyball' 'rock'] \n",
      "\n",
      "Cluster:  6\n",
      "Number of students:  815\n",
      "Keywords:  ['bible' 'blonde' 'music' 'band' 'marching'] \n",
      "\n",
      "Cluster:  7\n",
      "Number of students:  417\n",
      "Keywords:  ['mall' 'church' 'shopping' 'cheerleading' 'soccer'] \n",
      "\n",
      "Cluster:  8\n",
      "Number of students:  394\n",
      "Keywords:  ['drugs' 'abercrombie' 'cute' 'band' 'dance'] \n",
      "\n",
      "Cluster:  9\n",
      "Number of students:  2405\n",
      "Keywords:  ['bible' 'blonde' 'basketball' 'football' 'mall'] \n",
      "\n"
     ]
    }
   ],
   "source": [
    "## MyKMeans с MiniBatchMyKMeans\n",
    "keywords = df_sns.columns\n",
    "kmeans = MiniBatchKMeans(k=9)\n",
    "kmeans.fit(df_sns.values)\n",
    "for cluster, centroid in enumerate(kmeans.centroids):\n",
    "    print(\"Cluster: \", cluster + 1)\n",
    "    print(\"Number of students: \", kmeans.labels[kmeans.labels == cluster].size)\n",
    "    print(\"Keywords: \", keywords[np.argsort(centroid)[-5:]].values, \"\\n\")"
   ]
  },
  {
   "cell_type": "markdown",
   "metadata": {},
   "source": [
    "Описание кластеров: $$$$\n",
    "Cluster 1: Слишком большой кластер - плохо интерпретируется, в целом секс + религия..$$$$\n",
    "Cluster 2: Обычные девушки, если считать drugs лекарствами, а не наркотиками.$$$$\n",
    "Cluster 3: Шопоголики, слушающие рок.$$$$\n",
    "Cluster 4: Не знаю, как интерпретировать.$$$$\n",
    "Cluster 5: Рок-музыканты, играющие в волейбол.$$$$\n",
    "Cluster 6: Музыканты.$$$$\n",
    "Cluster 7: Черлидерши.$$$$\n",
    "Cluster 8: Не знаю, как интерпретировать.$$$$\n",
    "Cluster 9: Спортсмены.$$$$"
   ]
  },
  {
   "cell_type": "code",
   "execution_count": 17,
   "metadata": {},
   "outputs": [
    {
     "name": "stdout",
     "output_type": "stream",
     "text": [
      "Cluster:  1\n",
      "Number of students:  8069\n",
      "Keywords:  ['clothes' 'sexy' 'drunk' 'church' 'dance'] \n",
      "\n",
      "Cluster:  2\n",
      "Number of students:  18875\n",
      "Keywords:  ['abercrombie' 'volleyball' 'soccer' 'god' 'sexy'] \n",
      "\n",
      "Cluster:  3\n",
      "Number of students:  213\n",
      "Keywords:  ['band' 'sex' 'mall' 'baseball' 'volleyball'] \n",
      "\n",
      "Cluster:  4\n",
      "Number of students:  444\n",
      "Keywords:  ['dance' 'cheerleading' 'cute' 'drugs' 'hair'] \n",
      "\n",
      "Cluster:  5\n",
      "Number of students:  776\n",
      "Keywords:  ['clothes' 'death' 'shopping' 'tennis' 'soccer'] \n",
      "\n",
      "Cluster:  6\n",
      "Number of students:  195\n",
      "Keywords:  ['soccer' 'death' 'drunk' 'sexy' 'hot'] \n",
      "\n",
      "Cluster:  7\n",
      "Number of students:  72\n",
      "Keywords:  ['church' 'football' 'shopping' 'sports' 'swimming'] \n",
      "\n",
      "Cluster:  8\n",
      "Number of students:  128\n",
      "Keywords:  ['rock' 'clothes' 'football' 'church' 'bible'] \n",
      "\n",
      "Cluster:  9\n",
      "Number of students:  1228\n",
      "Keywords:  ['dress' 'swimming' 'shopping' 'football' 'drugs'] \n",
      "\n"
     ]
    }
   ],
   "source": [
    "## MyKMeans++ с MiniBatchMyKMeans\n",
    "keywords = df_sns.columns\n",
    "kmeans = MiniBatchKMeans(k=9, init=\"k-means\")\n",
    "kmeans.fit(df_sns.values)\n",
    "for cluster, centroid in enumerate(kmeans.centroids):\n",
    "    print(\"Cluster: \", cluster + 1)\n",
    "    print(\"Number of students: \", kmeans.labels[kmeans.labels == cluster].size)\n",
    "    print(\"Keywords: \", keywords[np.argsort(centroid)[-5:]].values, \"\\n\")"
   ]
  },
  {
   "cell_type": "markdown",
   "metadata": {},
   "source": [
    "Описание кластеров: $$$$\n",
    "Cluster 1: Возможно, девушки.$$$$\n",
    "Cluster 2: Слишком большой кластер - плохо интерпретируется, в целом спорт + секс + религия.$$$$\n",
    "Cluster 3: Парни.$$$$\n",
    "Cluster 4: Черлидерши, если считать drugs - лекарствами, а не наркотиками.$$$$\n",
    "Cluster 5: Спортсмены-шопоголики.$$$$\n",
    "Cluster 6: Тусовщики.$$$$\n",
    "Cluster 7: Спортсмены.$$$$\n",
    "Cluster 8: Верующие парни, слушающие рок и занимающиеся спортом.$$$$\n",
    "Cluster 9: Спортсменки?$$$$"
   ]
  },
  {
   "cell_type": "markdown",
   "metadata": {},
   "source": [
    "## Вывод\n",
    "Все методы выдают примерно похожие кластеры.\n",
    "Самые понятные для интерпретации K-means и K-means++.\n",
    "MiniBatch K-means и MiniBatch K-means++ слишком сильно перемешивают кластеры и дают несколько слишком маленьких.\n",
    "В итоге лучше и быстрей всех справился K-means."
   ]
  }
 ],
 "metadata": {
  "anaconda-cloud": {},
  "kernelspec": {
   "display_name": "Python 3",
   "language": "python",
   "name": "python3"
  },
  "language_info": {
   "codemirror_mode": {
    "name": "ipython",
    "version": 3
   },
   "file_extension": ".py",
   "mimetype": "text/x-python",
   "name": "python",
   "nbconvert_exporter": "python",
   "pygments_lexer": "ipython3",
   "version": "3.7.0"
  },
  "nav_menu": {},
  "toc": {
   "navigate_menu": true,
   "number_sections": false,
   "sideBar": true,
   "threshold": 6,
   "toc_cell": false,
   "toc_section_display": "block",
   "toc_window_display": true
  }
 },
 "nbformat": 4,
 "nbformat_minor": 2
}
